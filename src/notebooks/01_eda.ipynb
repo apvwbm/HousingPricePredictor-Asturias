{
 "cells": [
  {
   "cell_type": "code",
   "execution_count": 5,
   "metadata": {},
   "outputs": [
    {
     "name": "stdout",
     "output_type": "stream",
     "text": [
      "<class 'pandas.core.frame.DataFrame'>\n",
      "RangeIndex: 1960 entries, 0 to 1959\n",
      "Data columns (total 13 columns):\n",
      " #   Column                        Non-Null Count  Dtype \n",
      "---  ------                        --------------  ----- \n",
      " 0   Id del anuncio                1960 non-null   int64 \n",
      " 1   Título                        1960 non-null   object\n",
      " 2   Tipo de inmueble              1960 non-null   object\n",
      " 3   Tipo de vendedor              1960 non-null   object\n",
      " 4   Habitaciones                  1960 non-null   int64 \n",
      " 5   Barrio                        1960 non-null   object\n",
      " 6   Municipio                     1960 non-null   object\n",
      " 7   Euros/m2                      1960 non-null   int64 \n",
      " 8   Metros cuadrados construidos  1960 non-null   object\n",
      " 9   Obra nueva (Sí/No)            1960 non-null   object\n",
      " 10  Parking (Sí/No)               1960 non-null   object\n",
      " 11  Jardín (Sí/No)                1960 non-null   object\n",
      " 12  Precio                        1960 non-null   int64 \n",
      "dtypes: int64(4), object(9)\n",
      "memory usage: 199.2+ KB\n",
      "None\n",
      "       Id del anuncio  Habitaciones     Euros/m2        Precio\n",
      "count    1.960000e+03   1960.000000  1960.000000  1.960000e+03\n",
      "mean     1.040468e+08      4.256122  1666.725000  3.372163e+05\n",
      "std      7.750998e+06      2.194176   975.581231  3.118293e+05\n",
      "min      1.739768e+06      3.000000    97.000000  1.450000e+04\n",
      "25%      1.041580e+08      3.000000   922.000000  1.350000e+05\n",
      "50%      1.060582e+08      4.000000  1552.500000  2.450000e+05\n",
      "75%      1.070518e+08      5.000000  2278.750000  4.482500e+05\n",
      "max      1.075763e+08     35.000000  6090.000000  2.890000e+06\n",
      "Valores únicos en Tipo de inmueble: 5\n",
      "Valores únicos en Barrio: 63\n",
      "Valores únicos en Municipio: 76\n"
     ]
    }
   ],
   "source": [
    "import pandas as pd\n",
    "\n",
    "# Cargar datos\n",
    "df = pd.read_csv(\"../data/idealista_data_asturias.csv\", sep=\";\")\n",
    "\n",
    "# Resumen básico\n",
    "print(df.info())\n",
    "print(df.describe())\n",
    "\n",
    "# Ver valores únicos en columnas categóricas\n",
    "categorical_cols = [\"Tipo de inmueble\", \"Barrio\", \"Municipio\"]\n",
    "for col in categorical_cols:\n",
    "    print(f\"Valores únicos en {col}: {df[col].nunique()}\")"
   ]
  }
 ],
 "metadata": {
  "kernelspec": {
   "display_name": "Python 3",
   "language": "python",
   "name": "python3"
  },
  "language_info": {
   "codemirror_mode": {
    "name": "ipython",
    "version": 3
   },
   "file_extension": ".py",
   "mimetype": "text/x-python",
   "name": "python",
   "nbconvert_exporter": "python",
   "pygments_lexer": "ipython3",
   "version": "3.12.8"
  }
 },
 "nbformat": 4,
 "nbformat_minor": 2
}
